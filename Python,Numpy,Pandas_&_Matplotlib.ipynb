{
  "nbformat": 4,
  "nbformat_minor": 0,
  "metadata": {
    "colab": {
      "name": "Python,Numpy,Pandas & Matplotlib.ipynb",
      "provenance": [],
      "authorship_tag": "ABX9TyO8HGTlI2c83rSeDQL4KvTQ",
      "include_colab_link": true
    },
    "kernelspec": {
      "name": "python3",
      "display_name": "Python 3"
    },
    "language_info": {
      "name": "python"
    }
  },
  "cells": [
    {
      "cell_type": "markdown",
      "metadata": {
        "id": "view-in-github",
        "colab_type": "text"
      },
      "source": [
        "<a href=\"https://colab.research.google.com/github/syedabdulqadirgilani/-Deep-Learning-Assignments/blob/main/Python%2CNumpy%2CPandas_%26_Matplotlib.ipynb\" target=\"_parent\"><img src=\"https://colab.research.google.com/assets/colab-badge.svg\" alt=\"Open In Colab\"/></a>"
      ]
    },
    {
      "cell_type": "code",
      "metadata": {
        "id": "B1lFzsTtSgM6"
      },
      "source": [
        "import numpy as np\n",
        "import pandas as pd"
      ],
      "execution_count": 5,
      "outputs": []
    },
    {
      "cell_type": "code",
      "metadata": {
        "colab": {
          "base_uri": "https://localhost:8080/"
        },
        "id": "Md85bEYZSoCP",
        "outputId": "6242e890-7f98-4e15-fd6f-f213706ce96a"
      },
      "source": [
        "print(pd.__version__,'pd\\n',np.__version__,'np')"
      ],
      "execution_count": 9,
      "outputs": [
        {
          "output_type": "stream",
          "text": [
            "1.1.5 pd\n",
            " 1.19.5 np\n"
          ],
          "name": "stdout"
        }
      ]
    },
    {
      "cell_type": "code",
      "metadata": {
        "colab": {
          "base_uri": "https://localhost:8080/"
        },
        "id": "JJvZoCbTSqjX",
        "outputId": "e2cbd3ee-6e3b-490b-d9a8-7656ec6e3706"
      },
      "source": [
        "%time for a in range(1,10): r=[n*5 for n in range(2000000)]"
      ],
      "execution_count": 10,
      "outputs": [
        {
          "output_type": "stream",
          "text": [
            "CPU times: user 1.53 s, sys: 405 ms, total: 1.94 s\n",
            "Wall time: 1.95 s\n"
          ],
          "name": "stdout"
        }
      ]
    },
    {
      "cell_type": "code",
      "metadata": {
        "colab": {
          "base_uri": "https://localhost:8080/"
        },
        "id": "7oTSKuVSc_fE",
        "outputId": "b07914eb-7a37-40ac-c847-ca048e3bc53b"
      },
      "source": [
        "%time for b in range(1,10): r=range((2000000)*5)"
      ],
      "execution_count": 12,
      "outputs": [
        {
          "output_type": "stream",
          "text": [
            "CPU times: user 27.1 ms, sys: 7.09 ms, total: 34.2 ms\n",
            "Wall time: 34.1 ms\n"
          ],
          "name": "stdout"
        }
      ]
    },
    {
      "cell_type": "code",
      "metadata": {
        "colab": {
          "base_uri": "https://localhost:8080/"
        },
        "id": "U3qQOaFydRuM",
        "outputId": "1b1207c8-0012-4da3-87f5-65a219354c63"
      },
      "source": [
        "np.zeros(14)"
      ],
      "execution_count": 15,
      "outputs": [
        {
          "output_type": "execute_result",
          "data": {
            "text/plain": [
              "array([0., 0., 0., 0., 0., 0., 0., 0., 0., 0., 0., 0., 0., 0.])"
            ]
          },
          "metadata": {
            "tags": []
          },
          "execution_count": 15
        }
      ]
    },
    {
      "cell_type": "code",
      "metadata": {
        "colab": {
          "base_uri": "https://localhost:8080/"
        },
        "id": "0JXMXl57eCDx",
        "outputId": "618a7b95-4901-47fa-c744-7f8a18c0390c"
      },
      "source": [
        "type(np.zeros(14))"
      ],
      "execution_count": 14,
      "outputs": [
        {
          "output_type": "execute_result",
          "data": {
            "text/plain": [
              "numpy.ndarray"
            ]
          },
          "metadata": {
            "tags": []
          },
          "execution_count": 14
        }
      ]
    },
    {
      "cell_type": "code",
      "metadata": {
        "colab": {
          "base_uri": "https://localhost:8080/"
        },
        "id": "tT9Vq5JfeD27",
        "outputId": "5b609fd2-7df4-49f4-cdcf-96f43a79a201"
      },
      "source": [
        "type(np.zeros(14)[0])"
      ],
      "execution_count": 17,
      "outputs": [
        {
          "output_type": "execute_result",
          "data": {
            "text/plain": [
              "numpy.float64"
            ]
          },
          "metadata": {
            "tags": []
          },
          "execution_count": 17
        }
      ]
    },
    {
      "cell_type": "code",
      "metadata": {
        "colab": {
          "base_uri": "https://localhost:8080/"
        },
        "id": "bKcldKAzeN3N",
        "outputId": "86f78705-8c0b-4b9c-fcde-80712979572b"
      },
      "source": [
        "np.ones(5)"
      ],
      "execution_count": 18,
      "outputs": [
        {
          "output_type": "execute_result",
          "data": {
            "text/plain": [
              "array([1., 1., 1., 1., 1.])"
            ]
          },
          "metadata": {
            "tags": []
          },
          "execution_count": 18
        }
      ]
    },
    {
      "cell_type": "code",
      "metadata": {
        "colab": {
          "base_uri": "https://localhost:8080/"
        },
        "id": "TsXUzarmeTFd",
        "outputId": "c3f11f0c-77d6-4e97-fc51-2a9edcea292b"
      },
      "source": [
        "np.empty(10)"
      ],
      "execution_count": 19,
      "outputs": [
        {
          "output_type": "execute_result",
          "data": {
            "text/plain": [
              "array([4.64532743e-310, 4.64532630e-310, 4.64532630e-310, 4.64532630e-310,\n",
              "       4.64532630e-310, 4.64532630e-310, 4.64532630e-310, 4.64532630e-310,\n",
              "       0.00000000e+000, 0.00000000e+000])"
            ]
          },
          "metadata": {
            "tags": []
          },
          "execution_count": 19
        }
      ]
    },
    {
      "cell_type": "code",
      "metadata": {
        "colab": {
          "base_uri": "https://localhost:8080/"
        },
        "id": "dbfmDEUQeVlf",
        "outputId": "3de1e51d-175f-4c91-d6f7-53cd952f73ae"
      },
      "source": [
        "type(np.empty(10))"
      ],
      "execution_count": 20,
      "outputs": [
        {
          "output_type": "execute_result",
          "data": {
            "text/plain": [
              "numpy.ndarray"
            ]
          },
          "metadata": {
            "tags": []
          },
          "execution_count": 20
        }
      ]
    },
    {
      "cell_type": "code",
      "metadata": {
        "colab": {
          "base_uri": "https://localhost:8080/"
        },
        "id": "0W9wI2mleX9e",
        "outputId": "9775b574-9432-461a-9467-1402d83aceb6"
      },
      "source": [
        "np.empty(10).dtype"
      ],
      "execution_count": 21,
      "outputs": [
        {
          "output_type": "execute_result",
          "data": {
            "text/plain": [
              "dtype('float64')"
            ]
          },
          "metadata": {
            "tags": []
          },
          "execution_count": 21
        }
      ]
    },
    {
      "cell_type": "code",
      "metadata": {
        "colab": {
          "base_uri": "https://localhost:8080/"
        },
        "id": "uEYSMA1RecYU",
        "outputId": "6887c6fd-5467-47e7-e071-8b9d13f8825f"
      },
      "source": [
        "np.empty(10).shape"
      ],
      "execution_count": 22,
      "outputs": [
        {
          "output_type": "execute_result",
          "data": {
            "text/plain": [
              "(10,)"
            ]
          },
          "metadata": {
            "tags": []
          },
          "execution_count": 22
        }
      ]
    },
    {
      "cell_type": "code",
      "metadata": {
        "colab": {
          "base_uri": "https://localhost:8080/"
        },
        "id": "CeYHIxQuefzF",
        "outputId": "e2cd1024-e33c-4726-e85c-faabeb207b07"
      },
      "source": [
        "n=np.empty(10)\n",
        "e=n.shape=(5,2)\n",
        "e"
      ],
      "execution_count": 28,
      "outputs": [
        {
          "output_type": "execute_result",
          "data": {
            "text/plain": [
              "(5, 2)"
            ]
          },
          "metadata": {
            "tags": []
          },
          "execution_count": 28
        }
      ]
    },
    {
      "cell_type": "code",
      "metadata": {
        "colab": {
          "base_uri": "https://localhost:8080/"
        },
        "id": "T46DnZvtemSL",
        "outputId": "17aabd79-ced6-49cd-a717-0236932054bc"
      },
      "source": [
        "np.linspace(3,200,5)"
      ],
      "execution_count": 32,
      "outputs": [
        {
          "output_type": "execute_result",
          "data": {
            "text/plain": [
              "array([  3.  ,  52.25, 101.5 , 150.75, 200.  ])"
            ]
          },
          "metadata": {
            "tags": []
          },
          "execution_count": 32
        }
      ]
    },
    {
      "cell_type": "code",
      "metadata": {
        "colab": {
          "base_uri": "https://localhost:8080/"
        },
        "id": "oPoWbCZffC8e",
        "outputId": "e14a0688-13fb-48bc-bbe3-24dee0789a5b"
      },
      "source": [
        "np.arange(3,200,5)"
      ],
      "execution_count": 33,
      "outputs": [
        {
          "output_type": "execute_result",
          "data": {
            "text/plain": [
              "array([  3,   8,  13,  18,  23,  28,  33,  38,  43,  48,  53,  58,  63,\n",
              "        68,  73,  78,  83,  88,  93,  98, 103, 108, 113, 118, 123, 128,\n",
              "       133, 138, 143, 148, 153, 158, 163, 168, 173, 178, 183, 188, 193,\n",
              "       198])"
            ]
          },
          "metadata": {
            "tags": []
          },
          "execution_count": 33
        }
      ]
    },
    {
      "cell_type": "code",
      "metadata": {
        "colab": {
          "base_uri": "https://localhost:8080/"
        },
        "id": "eFr3SyQ1fJRU",
        "outputId": "8c9b2ac8-e658-4f33-cd26-4d5204d37de6"
      },
      "source": [
        "np.array((10,20,30))"
      ],
      "execution_count": 34,
      "outputs": [
        {
          "output_type": "execute_result",
          "data": {
            "text/plain": [
              "array([10, 20, 30])"
            ]
          },
          "metadata": {
            "tags": []
          },
          "execution_count": 34
        }
      ]
    },
    {
      "cell_type": "code",
      "metadata": {
        "colab": {
          "base_uri": "https://localhost:8080/"
        },
        "id": "YjBVMdx-fbtO",
        "outputId": "57fe7f1f-01f6-458c-8c11-4db854055bbe"
      },
      "source": [
        "l=[[1,2,3,4,5,6,7],[1,2,3,4,5,6,7]]\n",
        "na=np.array(l)\n",
        "na"
      ],
      "execution_count": 40,
      "outputs": [
        {
          "output_type": "execute_result",
          "data": {
            "text/plain": [
              "array([[1, 2, 3, 4, 5, 6, 7],\n",
              "       [1, 2, 3, 4, 5, 6, 7]])"
            ]
          },
          "metadata": {
            "tags": []
          },
          "execution_count": 40
        }
      ]
    },
    {
      "cell_type": "code",
      "metadata": {
        "colab": {
          "base_uri": "https://localhost:8080/"
        },
        "id": "B6fkYZbFfmgh",
        "outputId": "6228f07f-9d1b-479c-c573-1cebece95a08"
      },
      "source": [
        "na.shape"
      ],
      "execution_count": 41,
      "outputs": [
        {
          "output_type": "execute_result",
          "data": {
            "text/plain": [
              "(2, 7)"
            ]
          },
          "metadata": {
            "tags": []
          },
          "execution_count": 41
        }
      ]
    },
    {
      "cell_type": "code",
      "metadata": {
        "id": "u6-UP1d2fqDd"
      },
      "source": [
        "?na.shape"
      ],
      "execution_count": 43,
      "outputs": []
    },
    {
      "cell_type": "code",
      "metadata": {
        "colab": {
          "base_uri": "https://localhost:8080/"
        },
        "id": "Kv_qyqr1f0X1",
        "outputId": "883ca272-8b8a-4d08-cae0-7193c0b3c150"
      },
      "source": [
        "ra=np.random.randint(10,size=10)\n",
        "ra"
      ],
      "execution_count": 45,
      "outputs": [
        {
          "output_type": "execute_result",
          "data": {
            "text/plain": [
              "array([8, 5, 3, 1, 7, 3, 1, 6, 0, 1])"
            ]
          },
          "metadata": {
            "tags": []
          },
          "execution_count": 45
        }
      ]
    },
    {
      "cell_type": "code",
      "metadata": {
        "colab": {
          "base_uri": "https://localhost:8080/"
        },
        "id": "0sbE1MZugOY3",
        "outputId": "83c189cb-4692-4126-d34a-bb6c2619b190"
      },
      "source": [
        "ra[0]"
      ],
      "execution_count": 46,
      "outputs": [
        {
          "output_type": "execute_result",
          "data": {
            "text/plain": [
              "8"
            ]
          },
          "metadata": {
            "tags": []
          },
          "execution_count": 46
        }
      ]
    },
    {
      "cell_type": "code",
      "metadata": {
        "colab": {
          "base_uri": "https://localhost:8080/"
        },
        "id": "Ql0ZHNPUgbt7",
        "outputId": "66a05a8d-2f15-4d77-a9f4-22aeea69d726"
      },
      "source": [
        "ra[-1]"
      ],
      "execution_count": 47,
      "outputs": [
        {
          "output_type": "execute_result",
          "data": {
            "text/plain": [
              "1"
            ]
          },
          "metadata": {
            "tags": []
          },
          "execution_count": 47
        }
      ]
    },
    {
      "cell_type": "code",
      "metadata": {
        "colab": {
          "base_uri": "https://localhost:8080/"
        },
        "id": "QgzodbzNgvyg",
        "outputId": "51773523-eb92-4fd8-c618-47165659e789"
      },
      "source": [
        "ra[0:5]"
      ],
      "execution_count": 48,
      "outputs": [
        {
          "output_type": "execute_result",
          "data": {
            "text/plain": [
              "array([8, 5, 3, 1, 7])"
            ]
          },
          "metadata": {
            "tags": []
          },
          "execution_count": 48
        }
      ]
    },
    {
      "cell_type": "code",
      "metadata": {
        "colab": {
          "base_uri": "https://localhost:8080/"
        },
        "id": "0n5jbUvMgyMm",
        "outputId": "4cbc4f6f-0b3d-48ea-e81f-d5e0f20127a8"
      },
      "source": [
        "ra>10"
      ],
      "execution_count": 49,
      "outputs": [
        {
          "output_type": "execute_result",
          "data": {
            "text/plain": [
              "array([False, False, False, False, False, False, False, False, False,\n",
              "       False])"
            ]
          },
          "metadata": {
            "tags": []
          },
          "execution_count": 49
        }
      ]
    },
    {
      "cell_type": "code",
      "metadata": {
        "colab": {
          "base_uri": "https://localhost:8080/"
        },
        "id": "ibTQzgUkg7SF",
        "outputId": "c31015b4-f66a-4860-8451-fed3ec087485"
      },
      "source": [
        "ra[ra>40]"
      ],
      "execution_count": 51,
      "outputs": [
        {
          "output_type": "execute_result",
          "data": {
            "text/plain": [
              "array([], dtype=int64)"
            ]
          },
          "metadata": {
            "tags": []
          },
          "execution_count": 51
        }
      ]
    },
    {
      "cell_type": "code",
      "metadata": {
        "colab": {
          "base_uri": "https://localhost:8080/"
        },
        "id": "dVOeGYP6g9Bx",
        "outputId": "5d444801-db3d-44ec-e9e6-3306e5a803e1"
      },
      "source": [
        "ra*2"
      ],
      "execution_count": 52,
      "outputs": [
        {
          "output_type": "execute_result",
          "data": {
            "text/plain": [
              "array([16, 10,  6,  2, 14,  6,  2, 12,  0,  2])"
            ]
          },
          "metadata": {
            "tags": []
          },
          "execution_count": 52
        }
      ]
    },
    {
      "cell_type": "code",
      "metadata": {
        "colab": {
          "base_uri": "https://localhost:8080/"
        },
        "id": "aE9Gevzfg_jz",
        "outputId": "7be48821-5e42-42c8-9fad-c51d539d4c92"
      },
      "source": [
        "ra+100"
      ],
      "execution_count": 53,
      "outputs": [
        {
          "output_type": "execute_result",
          "data": {
            "text/plain": [
              "array([108, 105, 103, 101, 107, 103, 101, 106, 100, 101])"
            ]
          },
          "metadata": {
            "tags": []
          },
          "execution_count": 53
        }
      ]
    },
    {
      "cell_type": "code",
      "metadata": {
        "colab": {
          "base_uri": "https://localhost:8080/"
        },
        "id": "K4k-wxlxhAkH",
        "outputId": "ad66ca28-9423-4433-9f9f-d2888c3097f7"
      },
      "source": [
        "ra-100"
      ],
      "execution_count": 54,
      "outputs": [
        {
          "output_type": "execute_result",
          "data": {
            "text/plain": [
              "array([ -92,  -95,  -97,  -99,  -93,  -97,  -99,  -94, -100,  -99])"
            ]
          },
          "metadata": {
            "tags": []
          },
          "execution_count": 54
        }
      ]
    },
    {
      "cell_type": "code",
      "metadata": {
        "colab": {
          "base_uri": "https://localhost:8080/"
        },
        "id": "npZFC3ODhBJ0",
        "outputId": "6cbf4adc-4cc8-4ec2-afb2-b758fdfec73a"
      },
      "source": [
        "ra/2"
      ],
      "execution_count": 55,
      "outputs": [
        {
          "output_type": "execute_result",
          "data": {
            "text/plain": [
              "array([4. , 2.5, 1.5, 0.5, 3.5, 1.5, 0.5, 3. , 0. , 0.5])"
            ]
          },
          "metadata": {
            "tags": []
          },
          "execution_count": 55
        }
      ]
    },
    {
      "cell_type": "code",
      "metadata": {
        "colab": {
          "base_uri": "https://localhost:8080/"
        },
        "id": "6rsQI3EEhB2_",
        "outputId": "a8b49c2c-1a1c-4315-d7c6-de9aa5e1da65"
      },
      "source": [
        "ra*ra"
      ],
      "execution_count": 56,
      "outputs": [
        {
          "output_type": "execute_result",
          "data": {
            "text/plain": [
              "array([64, 25,  9,  1, 49,  9,  1, 36,  0,  1])"
            ]
          },
          "metadata": {
            "tags": []
          },
          "execution_count": 56
        }
      ]
    },
    {
      "cell_type": "code",
      "metadata": {
        "colab": {
          "base_uri": "https://localhost:8080/"
        },
        "id": "Norm2F0-hCqE",
        "outputId": "ecada314-4911-4f5d-af3b-d66b813e8147"
      },
      "source": [
        "l=[1,2,3,4]\n",
        "l*2"
      ],
      "execution_count": 57,
      "outputs": [
        {
          "output_type": "execute_result",
          "data": {
            "text/plain": [
              "[1, 2, 3, 4, 1, 2, 3, 4]"
            ]
          },
          "metadata": {
            "tags": []
          },
          "execution_count": 57
        }
      ]
    },
    {
      "cell_type": "code",
      "metadata": {
        "colab": {
          "base_uri": "https://localhost:8080/"
        },
        "id": "HUai1kFrhEw5",
        "outputId": "611789d7-b509-49c4-8786-0252ae994dcd"
      },
      "source": [
        "ra*2"
      ],
      "execution_count": 58,
      "outputs": [
        {
          "output_type": "execute_result",
          "data": {
            "text/plain": [
              "array([16, 10,  6,  2, 14,  6,  2, 12,  0,  2])"
            ]
          },
          "metadata": {
            "tags": []
          },
          "execution_count": 58
        }
      ]
    },
    {
      "cell_type": "code",
      "metadata": {
        "colab": {
          "base_uri": "https://localhost:8080/"
        },
        "id": "Gp0HpCUnhF_4",
        "outputId": "0df8243e-9f40-426b-fa4d-345e95a44ba6"
      },
      "source": [
        "ra+5"
      ],
      "execution_count": 59,
      "outputs": [
        {
          "output_type": "execute_result",
          "data": {
            "text/plain": [
              "array([13, 10,  8,  6, 12,  8,  6, 11,  5,  6])"
            ]
          },
          "metadata": {
            "tags": []
          },
          "execution_count": 59
        }
      ]
    },
    {
      "cell_type": "code",
      "metadata": {
        "colab": {
          "base_uri": "https://localhost:8080/",
          "height": 163
        },
        "id": "SBk3wJ3JhJvV",
        "outputId": "4ee2e76a-b510-4a44-90d2-66181118923a"
      },
      "source": [
        "l+5"
      ],
      "execution_count": 60,
      "outputs": [
        {
          "output_type": "error",
          "ename": "TypeError",
          "evalue": "ignored",
          "traceback": [
            "\u001b[0;31m---------------------------------------------------------------------------\u001b[0m",
            "\u001b[0;31mTypeError\u001b[0m                                 Traceback (most recent call last)",
            "\u001b[0;32m<ipython-input-60-19ae9a22dca0>\u001b[0m in \u001b[0;36m<module>\u001b[0;34m()\u001b[0m\n\u001b[0;32m----> 1\u001b[0;31m \u001b[0ml\u001b[0m\u001b[0;34m+\u001b[0m\u001b[0;36m5\u001b[0m\u001b[0;34m\u001b[0m\u001b[0;34m\u001b[0m\u001b[0m\n\u001b[0m",
            "\u001b[0;31mTypeError\u001b[0m: can only concatenate list (not \"int\") to list"
          ]
        }
      ]
    },
    {
      "cell_type": "code",
      "metadata": {
        "colab": {
          "base_uri": "https://localhost:8080/"
        },
        "id": "qykBTK5XhK9K",
        "outputId": "51f90020-eed8-4da6-f8ad-b051b1ff1dd5"
      },
      "source": [
        "ra@ra"
      ],
      "execution_count": 61,
      "outputs": [
        {
          "output_type": "execute_result",
          "data": {
            "text/plain": [
              "195"
            ]
          },
          "metadata": {
            "tags": []
          },
          "execution_count": 61
        }
      ]
    },
    {
      "cell_type": "code",
      "metadata": {
        "id": "aA1TB_K0hMKk"
      },
      "source": [
        "a=np.array([1,2,3,4,5,6,7,8])\n",
        "b=np.array([7,2,1,3,4,5,8,7])"
      ],
      "execution_count": 64,
      "outputs": []
    },
    {
      "cell_type": "code",
      "metadata": {
        "colab": {
          "base_uri": "https://localhost:8080/"
        },
        "id": "FhqOYDQbiHSA",
        "outputId": "0d3da9ae-a3b3-47a1-e20c-9c8ac6a34c2e"
      },
      "source": [
        "np.where(a>b,a,b)"
      ],
      "execution_count": 65,
      "outputs": [
        {
          "output_type": "execute_result",
          "data": {
            "text/plain": [
              "array([7, 2, 3, 4, 5, 6, 8, 8])"
            ]
          },
          "metadata": {
            "tags": []
          },
          "execution_count": 65
        }
      ]
    },
    {
      "cell_type": "code",
      "metadata": {
        "colab": {
          "base_uri": "https://localhost:8080/"
        },
        "id": "rG8S72sGiQx_",
        "outputId": "cae23d3f-c5ba-42df-eba6-a2ad9c308d05"
      },
      "source": [
        "r=np.array([44,42,25,30,50,70,20])\n",
        "np.where(r>40,'p','f')"
      ],
      "execution_count": 66,
      "outputs": [
        {
          "output_type": "execute_result",
          "data": {
            "text/plain": [
              "array(['p', 'p', 'f', 'f', 'p', 'p', 'f'], dtype='<U1')"
            ]
          },
          "metadata": {
            "tags": []
          },
          "execution_count": 66
        }
      ]
    },
    {
      "cell_type": "code",
      "metadata": {
        "colab": {
          "base_uri": "https://localhost:8080/"
        },
        "id": "3fzBQMdJipYE",
        "outputId": "86ac58ca-853a-4d94-dc46-7d8ba106ae54"
      },
      "source": [
        "np.array([1,2,3,4,5,6,7,8,9,10]).mean()"
      ],
      "execution_count": 67,
      "outputs": [
        {
          "output_type": "execute_result",
          "data": {
            "text/plain": [
              "5.5"
            ]
          },
          "metadata": {
            "tags": []
          },
          "execution_count": 67
        }
      ]
    },
    {
      "cell_type": "code",
      "metadata": {
        "colab": {
          "base_uri": "https://localhost:8080/"
        },
        "id": "eNQg-jxzmEE-",
        "outputId": "bf9c4248-a6ca-4a7c-eda6-07dc6ce3cfe5"
      },
      "source": [
        "np.array([1,2,3,4,5,6,7,8,9,10]).cumsum()"
      ],
      "execution_count": 68,
      "outputs": [
        {
          "output_type": "execute_result",
          "data": {
            "text/plain": [
              "array([ 1,  3,  6, 10, 15, 21, 28, 36, 45, 55])"
            ]
          },
          "metadata": {
            "tags": []
          },
          "execution_count": 68
        }
      ]
    },
    {
      "cell_type": "code",
      "metadata": {
        "colab": {
          "base_uri": "https://localhost:8080/"
        },
        "id": "4mT0kt6fmKBZ",
        "outputId": "10695f86-9b20-4cc3-d794-10929896aa83"
      },
      "source": [
        "np.array([1,2,3,4,5,6,7,8,9,10]).cumprod()"
      ],
      "execution_count": 69,
      "outputs": [
        {
          "output_type": "execute_result",
          "data": {
            "text/plain": [
              "array([      1,       2,       6,      24,     120,     720,    5040,\n",
              "         40320,  362880, 3628800])"
            ]
          },
          "metadata": {
            "tags": []
          },
          "execution_count": 69
        }
      ]
    },
    {
      "cell_type": "code",
      "metadata": {
        "colab": {
          "base_uri": "https://localhost:8080/"
        },
        "id": "qjLMrBtzmSB4",
        "outputId": "c75f1de4-a229-4c90-804d-47dbbf97ef47"
      },
      "source": [
        "np.array([1,2,3,4,5,6,7,8,9,10]).sum()"
      ],
      "execution_count": 70,
      "outputs": [
        {
          "output_type": "execute_result",
          "data": {
            "text/plain": [
              "55"
            ]
          },
          "metadata": {
            "tags": []
          },
          "execution_count": 70
        }
      ]
    },
    {
      "cell_type": "code",
      "metadata": {
        "colab": {
          "base_uri": "https://localhost:8080/"
        },
        "id": "syZRRJxqmkth",
        "outputId": "3a19ede2-bb37-477d-f200-a310ccd781ae"
      },
      "source": [
        "np.array([1,2,3,4,5,6,7,8,9,10])>11"
      ],
      "execution_count": 71,
      "outputs": [
        {
          "output_type": "execute_result",
          "data": {
            "text/plain": [
              "array([False, False, False, False, False, False, False, False, False,\n",
              "       False])"
            ]
          },
          "metadata": {
            "tags": []
          },
          "execution_count": 71
        }
      ]
    },
    {
      "cell_type": "code",
      "metadata": {
        "colab": {
          "base_uri": "https://localhost:8080/"
        },
        "id": "KwQbxaoNmn5N",
        "outputId": "a4c0e711-7abb-428e-d92b-054c3c1882dd"
      },
      "source": [
        "np.array([1,2,3,4,5,6,7,8,9,10]).any()"
      ],
      "execution_count": 75,
      "outputs": [
        {
          "output_type": "execute_result",
          "data": {
            "text/plain": [
              "True"
            ]
          },
          "metadata": {
            "tags": []
          },
          "execution_count": 75
        }
      ]
    },
    {
      "cell_type": "code",
      "metadata": {
        "colab": {
          "base_uri": "https://localhost:8080/"
        },
        "id": "u86itH03nPWg",
        "outputId": "e616f236-60f4-4c3b-ee4c-6e644966bac9"
      },
      "source": [
        "np.array([1,2,3,4,5,6,7,8,9,10]).all()"
      ],
      "execution_count": 76,
      "outputs": [
        {
          "output_type": "execute_result",
          "data": {
            "text/plain": [
              "True"
            ]
          },
          "metadata": {
            "tags": []
          },
          "execution_count": 76
        }
      ]
    },
    {
      "cell_type": "code",
      "metadata": {
        "id": "kPJZ-OoFn5jB"
      },
      "source": [
        "s=np.array([3,2,2,1]).sort()\n",
        "s"
      ],
      "execution_count": 80,
      "outputs": []
    },
    {
      "cell_type": "code",
      "metadata": {
        "colab": {
          "base_uri": "https://localhost:8080/"
        },
        "id": "CqFY_Xh7oCCz",
        "outputId": "9f2b7e14-548f-4d76-f5c3-3dd56eb98253"
      },
      "source": [
        "np.unique([1,2,3,4,5,5,5,5])"
      ],
      "execution_count": 82,
      "outputs": [
        {
          "output_type": "execute_result",
          "data": {
            "text/plain": [
              "array([1, 2, 3, 4, 5])"
            ]
          },
          "metadata": {
            "tags": []
          },
          "execution_count": 82
        }
      ]
    },
    {
      "cell_type": "code",
      "metadata": {
        "id": "6PEv-veQoO40"
      },
      "source": [
        "np.save('a.npy',np.array([1,2,3,4,5]))"
      ],
      "execution_count": 83,
      "outputs": []
    },
    {
      "cell_type": "code",
      "metadata": {
        "colab": {
          "base_uri": "https://localhost:8080/"
        },
        "id": "cXBVTbzCprQ-",
        "outputId": "ee8208ad-5e83-46be-c8e1-808038a3ce18"
      },
      "source": [
        "np.load('a.npy')"
      ],
      "execution_count": 84,
      "outputs": [
        {
          "output_type": "execute_result",
          "data": {
            "text/plain": [
              "array([1, 2, 3, 4, 5])"
            ]
          },
          "metadata": {
            "tags": []
          },
          "execution_count": 84
        }
      ]
    },
    {
      "cell_type": "code",
      "metadata": {
        "id": "f3KbNAvEp6bU"
      },
      "source": [
        "np.savez('a',a=np.array([1,2,3]),b=np.array([3,4,5]))"
      ],
      "execution_count": 89,
      "outputs": []
    },
    {
      "cell_type": "code",
      "metadata": {
        "colab": {
          "base_uri": "https://localhost:8080/"
        },
        "id": "o62C48TPqEfg",
        "outputId": "3c92415b-5c84-476b-c3b6-80c46ba0d3a4"
      },
      "source": [
        "np.load('a.npz')"
      ],
      "execution_count": 91,
      "outputs": [
        {
          "output_type": "execute_result",
          "data": {
            "text/plain": [
              "<numpy.lib.npyio.NpzFile at 0x7f30ed79bd90>"
            ]
          },
          "metadata": {
            "tags": []
          },
          "execution_count": 91
        }
      ]
    },
    {
      "cell_type": "code",
      "metadata": {
        "colab": {
          "base_uri": "https://localhost:8080/"
        },
        "id": "1_v2BP9MqqO2",
        "outputId": "e6be4a38-ad29-488c-d604-8c3b3fb2e50d"
      },
      "source": [
        "np.dot([1,2,3,4],[5,6,7,8])"
      ],
      "execution_count": 96,
      "outputs": [
        {
          "output_type": "execute_result",
          "data": {
            "text/plain": [
              "70"
            ]
          },
          "metadata": {
            "tags": []
          },
          "execution_count": 96
        }
      ]
    },
    {
      "cell_type": "code",
      "metadata": {
        "colab": {
          "base_uri": "https://localhost:8080/"
        },
        "id": "EF-EYt4LsHeu",
        "outputId": "14c3fd69-7eea-4948-81d7-d63b66b6b2b7"
      },
      "source": [
        "np.array([[1,2,3],[4,5,6]])"
      ],
      "execution_count": 97,
      "outputs": [
        {
          "output_type": "execute_result",
          "data": {
            "text/plain": [
              "array([[1, 2, 3],\n",
              "       [4, 5, 6]])"
            ]
          },
          "metadata": {
            "tags": []
          },
          "execution_count": 97
        }
      ]
    },
    {
      "cell_type": "code",
      "metadata": {
        "colab": {
          "base_uri": "https://localhost:8080/"
        },
        "id": "Scm1gjPasgrR",
        "outputId": "cbfa0d2c-f63e-4440-d636-ad3e4bbd7e4f"
      },
      "source": [
        "np.array([[1,2,3],[4,5,6]]).transpose()"
      ],
      "execution_count": 100,
      "outputs": [
        {
          "output_type": "execute_result",
          "data": {
            "text/plain": [
              "array([[1, 4],\n",
              "       [2, 5],\n",
              "       [3, 6]])"
            ]
          },
          "metadata": {
            "tags": []
          },
          "execution_count": 100
        }
      ]
    },
    {
      "cell_type": "code",
      "metadata": {
        "colab": {
          "base_uri": "https://localhost:8080/"
        },
        "id": "wHt0xA6HsqHF",
        "outputId": "cce03d27-7696-4151-d83a-21eb81f5d354"
      },
      "source": [
        "np.eye(4)"
      ],
      "execution_count": 103,
      "outputs": [
        {
          "output_type": "execute_result",
          "data": {
            "text/plain": [
              "array([[1., 0., 0., 0.],\n",
              "       [0., 1., 0., 0.],\n",
              "       [0., 0., 1., 0.],\n",
              "       [0., 0., 0., 1.]])"
            ]
          },
          "metadata": {
            "tags": []
          },
          "execution_count": 103
        }
      ]
    },
    {
      "cell_type": "code",
      "metadata": {
        "colab": {
          "base_uri": "https://localhost:8080/"
        },
        "id": "kTD0hHx2swyX",
        "outputId": "a7b07a08-71bb-48a1-9501-7934bcf92cfe"
      },
      "source": [
        "np.trace([[1,2,3,4,5]])"
      ],
      "execution_count": 113,
      "outputs": [
        {
          "output_type": "execute_result",
          "data": {
            "text/plain": [
              "1"
            ]
          },
          "metadata": {
            "tags": []
          },
          "execution_count": 113
        }
      ]
    },
    {
      "cell_type": "code",
      "metadata": {
        "colab": {
          "base_uri": "https://localhost:8080/"
        },
        "id": "m5hjwqNgtQOg",
        "outputId": "ef6bf7cd-192e-4b55-f18b-84de45483a93"
      },
      "source": [
        "a=np.array([1,2])\n",
        "b=np.array([4,5])\n",
        "np.linalg.det((a,b))"
      ],
      "execution_count": 117,
      "outputs": [
        {
          "output_type": "execute_result",
          "data": {
            "text/plain": [
              "-2.9999999999999996"
            ]
          },
          "metadata": {
            "tags": []
          },
          "execution_count": 117
        }
      ]
    },
    {
      "cell_type": "code",
      "metadata": {
        "colab": {
          "base_uri": "https://localhost:8080/"
        },
        "id": "s4uYLrGOuDI6",
        "outputId": "b94c7f48-ce01-4099-91f3-bc3eeed53b76"
      },
      "source": [
        "np.random.randint(100,size=(13))"
      ],
      "execution_count": 126,
      "outputs": [
        {
          "output_type": "execute_result",
          "data": {
            "text/plain": [
              "array([51, 81, 53, 26, 56, 57, 77, 68,  3, 35, 13, 61,  7])"
            ]
          },
          "metadata": {
            "tags": []
          },
          "execution_count": 126
        }
      ]
    },
    {
      "cell_type": "code",
      "metadata": {
        "colab": {
          "base_uri": "https://localhost:8080/"
        },
        "id": "T5eHp1FDuiJ2",
        "outputId": "9f4626e8-cee6-4d16-cf70-14339b1770d0"
      },
      "source": [
        "np.random.normal(9,size=(5,2))"
      ],
      "execution_count": 129,
      "outputs": [
        {
          "output_type": "execute_result",
          "data": {
            "text/plain": [
              "array([[ 8.730909  ,  8.45429812],\n",
              "       [ 9.73402014,  8.09542578],\n",
              "       [ 8.06443896, 11.45044292],\n",
              "       [ 9.3409146 , 10.98751717],\n",
              "       [ 7.32832683,  8.09532419]])"
            ]
          },
          "metadata": {
            "tags": []
          },
          "execution_count": 129
        }
      ]
    },
    {
      "cell_type": "code",
      "metadata": {
        "colab": {
          "base_uri": "https://localhost:8080/"
        },
        "id": "vY3wOZ7Tu6hs",
        "outputId": "9770e460-4258-4892-8be3-7ef6aa56dee1"
      },
      "source": [
        "np.random.gamma(9,size=(2,3))"
      ],
      "execution_count": 130,
      "outputs": [
        {
          "output_type": "execute_result",
          "data": {
            "text/plain": [
              "array([[ 4.24241723, 10.89370527,  8.9319374 ],\n",
              "       [12.0485677 , 10.11652102,  7.92687558]])"
            ]
          },
          "metadata": {
            "tags": []
          },
          "execution_count": 130
        }
      ]
    },
    {
      "cell_type": "code",
      "metadata": {
        "id": "-wSFErxRvBNx"
      },
      "source": [
        "np.random.seed(10)"
      ],
      "execution_count": 131,
      "outputs": []
    },
    {
      "cell_type": "code",
      "metadata": {
        "colab": {
          "base_uri": "https://localhost:8080/"
        },
        "id": "T3RCDZZevJEH",
        "outputId": "b7832426-13e3-4fcc-a2fd-3f2fac6e84f0"
      },
      "source": [
        "np.random.gamma(3,size=5)"
      ],
      "execution_count": 132,
      "outputs": [
        {
          "output_type": "execute_result",
          "data": {
            "text/plain": [
              "array([5.48572926, 4.01355368, 3.8154306 , 1.65514449, 3.1241686 ])"
            ]
          },
          "metadata": {
            "tags": []
          },
          "execution_count": 132
        }
      ]
    },
    {
      "cell_type": "code",
      "metadata": {
        "colab": {
          "base_uri": "https://localhost:8080/"
        },
        "id": "G61p7i8HvSfy",
        "outputId": "f4812aea-25ab-4206-b6f4-dc9703033f7a"
      },
      "source": [
        "np.arange(1,13).reshape(2,6)"
      ],
      "execution_count": 134,
      "outputs": [
        {
          "output_type": "execute_result",
          "data": {
            "text/plain": [
              "array([[ 1,  2,  3,  4,  5,  6],\n",
              "       [ 7,  8,  9, 10, 11, 12]])"
            ]
          },
          "metadata": {
            "tags": []
          },
          "execution_count": 134
        }
      ]
    },
    {
      "cell_type": "code",
      "metadata": {
        "colab": {
          "base_uri": "https://localhost:8080/"
        },
        "id": "pPWjCH0MvsUJ",
        "outputId": "84a64e88-e425-4ec4-8a94-2062336e8cfa"
      },
      "source": [
        "np.arange(1,13).reshape(3,4,order='f')"
      ],
      "execution_count": 137,
      "outputs": [
        {
          "output_type": "execute_result",
          "data": {
            "text/plain": [
              "array([[ 1,  4,  7, 10],\n",
              "       [ 2,  5,  8, 11],\n",
              "       [ 3,  6,  9, 12]])"
            ]
          },
          "metadata": {
            "tags": []
          },
          "execution_count": 137
        }
      ]
    },
    {
      "cell_type": "code",
      "metadata": {
        "colab": {
          "base_uri": "https://localhost:8080/"
        },
        "id": "nz6HMfEXv6yZ",
        "outputId": "eff777d4-9ee5-47fa-ecfb-efa1f4446c4e"
      },
      "source": [
        "np.arange(1,13).reshape(3,4,order='c')"
      ],
      "execution_count": 138,
      "outputs": [
        {
          "output_type": "execute_result",
          "data": {
            "text/plain": [
              "array([[ 1,  2,  3,  4],\n",
              "       [ 5,  6,  7,  8],\n",
              "       [ 9, 10, 11, 12]])"
            ]
          },
          "metadata": {
            "tags": []
          },
          "execution_count": 138
        }
      ]
    },
    {
      "cell_type": "code",
      "metadata": {
        "colab": {
          "base_uri": "https://localhost:8080/"
        },
        "id": "x-Nn5FfhwIr8",
        "outputId": "5fdd957e-491b-4bd6-cef7-26243281b3d2"
      },
      "source": [
        "np.arange(1,13).reshape(2,3,2,order='c')"
      ],
      "execution_count": 139,
      "outputs": [
        {
          "output_type": "execute_result",
          "data": {
            "text/plain": [
              "array([[[ 1,  2],\n",
              "        [ 3,  4],\n",
              "        [ 5,  6]],\n",
              "\n",
              "       [[ 7,  8],\n",
              "        [ 9, 10],\n",
              "        [11, 12]]])"
            ]
          },
          "metadata": {
            "tags": []
          },
          "execution_count": 139
        }
      ]
    },
    {
      "cell_type": "code",
      "metadata": {
        "colab": {
          "base_uri": "https://localhost:8080/"
        },
        "id": "SoGIHSKuwby3",
        "outputId": "5fe63701-c711-4258-ba23-916b0a672ab1"
      },
      "source": [
        "np.arange(1,13).reshape(2,3,2,order='f')"
      ],
      "execution_count": 140,
      "outputs": [
        {
          "output_type": "execute_result",
          "data": {
            "text/plain": [
              "array([[[ 1,  7],\n",
              "        [ 3,  9],\n",
              "        [ 5, 11]],\n",
              "\n",
              "       [[ 2,  8],\n",
              "        [ 4, 10],\n",
              "        [ 6, 12]]])"
            ]
          },
          "metadata": {
            "tags": []
          },
          "execution_count": 140
        }
      ]
    },
    {
      "cell_type": "code",
      "metadata": {
        "colab": {
          "base_uri": "https://localhost:8080/"
        },
        "id": "d_Zqj-6Vwdux",
        "outputId": "c0825b3d-1882-4f87-f41d-dbad539de22c"
      },
      "source": [
        "np.arange(1,13).reshape(2,3,2,order='f').ravel()"
      ],
      "execution_count": 141,
      "outputs": [
        {
          "output_type": "execute_result",
          "data": {
            "text/plain": [
              "array([ 1,  7,  3,  9,  5, 11,  2,  8,  4, 10,  6, 12])"
            ]
          },
          "metadata": {
            "tags": []
          },
          "execution_count": 141
        }
      ]
    },
    {
      "cell_type": "code",
      "metadata": {
        "colab": {
          "base_uri": "https://localhost:8080/"
        },
        "id": "qELg8wXAwp4Z",
        "outputId": "b990e960-98dd-4181-d755-d6b7a352ed00"
      },
      "source": [
        "np.arange(1,13).reshape(2,3,2,order='c').ravel()"
      ],
      "execution_count": 142,
      "outputs": [
        {
          "output_type": "execute_result",
          "data": {
            "text/plain": [
              "array([ 1,  2,  3,  4,  5,  6,  7,  8,  9, 10, 11, 12])"
            ]
          },
          "metadata": {
            "tags": []
          },
          "execution_count": 142
        }
      ]
    },
    {
      "cell_type": "code",
      "metadata": {
        "colab": {
          "base_uri": "https://localhost:8080/"
        },
        "id": "ET0E9o3awzUw",
        "outputId": "7d738bd1-c34b-40a9-82c4-f93cd077b399"
      },
      "source": [
        "np.arange(1,13).reshape(2,3,2,order='c').flatten()"
      ],
      "execution_count": 143,
      "outputs": [
        {
          "output_type": "execute_result",
          "data": {
            "text/plain": [
              "array([ 1,  2,  3,  4,  5,  6,  7,  8,  9, 10, 11, 12])"
            ]
          },
          "metadata": {
            "tags": []
          },
          "execution_count": 143
        }
      ]
    },
    {
      "cell_type": "code",
      "metadata": {
        "id": "aBc7pyIUw4HA"
      },
      "source": [
        "a=np.arange(1,5)"
      ],
      "execution_count": 144,
      "outputs": []
    },
    {
      "cell_type": "code",
      "metadata": {
        "colab": {
          "base_uri": "https://localhost:8080/"
        },
        "id": "qJ2IpKkixloo",
        "outputId": "f8219efc-afe1-4d21-c3ab-865e7eac7975"
      },
      "source": [
        "a"
      ],
      "execution_count": 145,
      "outputs": [
        {
          "output_type": "execute_result",
          "data": {
            "text/plain": [
              "array([1, 2, 3, 4])"
            ]
          },
          "metadata": {
            "tags": []
          },
          "execution_count": 145
        }
      ]
    },
    {
      "cell_type": "code",
      "metadata": {
        "id": "aYUBGuMZxl_U"
      },
      "source": [
        "b=np.arange(6,10)"
      ],
      "execution_count": 146,
      "outputs": []
    },
    {
      "cell_type": "code",
      "metadata": {
        "colab": {
          "base_uri": "https://localhost:8080/"
        },
        "id": "jwDYjtRJxpeZ",
        "outputId": "2fe24491-8a9a-4d4e-f2b1-76355663ff07"
      },
      "source": [
        "np.concatenate((a,b))"
      ],
      "execution_count": 147,
      "outputs": [
        {
          "output_type": "execute_result",
          "data": {
            "text/plain": [
              "array([1, 2, 3, 4, 6, 7, 8, 9])"
            ]
          },
          "metadata": {
            "tags": []
          },
          "execution_count": 147
        }
      ]
    },
    {
      "cell_type": "code",
      "metadata": {
        "colab": {
          "base_uri": "https://localhost:8080/"
        },
        "id": "-86G9g_0xsEA",
        "outputId": "0a5660ff-b9d3-4493-f64b-457e8fba960f"
      },
      "source": [
        "np.hstack((a,b))"
      ],
      "execution_count": 148,
      "outputs": [
        {
          "output_type": "execute_result",
          "data": {
            "text/plain": [
              "array([1, 2, 3, 4, 6, 7, 8, 9])"
            ]
          },
          "metadata": {
            "tags": []
          },
          "execution_count": 148
        }
      ]
    },
    {
      "cell_type": "code",
      "metadata": {
        "colab": {
          "base_uri": "https://localhost:8080/"
        },
        "id": "nu01mLJMx2rc",
        "outputId": "110ad6fd-7e5c-4612-daea-13c6c1f75de8"
      },
      "source": [
        "np.vstack((a,b))"
      ],
      "execution_count": 149,
      "outputs": [
        {
          "output_type": "execute_result",
          "data": {
            "text/plain": [
              "array([[1, 2, 3, 4],\n",
              "       [6, 7, 8, 9]])"
            ]
          },
          "metadata": {
            "tags": []
          },
          "execution_count": 149
        }
      ]
    },
    {
      "cell_type": "code",
      "metadata": {
        "colab": {
          "base_uri": "https://localhost:8080/"
        },
        "id": "OnprFo1xx5BJ",
        "outputId": "3b79d80d-ac4c-4803-8069-2d8c34ea6e18"
      },
      "source": [
        "c=np.arange(1,15)\n",
        "c"
      ],
      "execution_count": 152,
      "outputs": [
        {
          "output_type": "execute_result",
          "data": {
            "text/plain": [
              "array([ 1,  2,  3,  4,  5,  6,  7,  8,  9, 10, 11, 12, 13, 14])"
            ]
          },
          "metadata": {
            "tags": []
          },
          "execution_count": 152
        }
      ]
    },
    {
      "cell_type": "code",
      "metadata": {
        "colab": {
          "base_uri": "https://localhost:8080/"
        },
        "id": "F5kMXh0dyJME",
        "outputId": "e98e6b46-3485-47bc-c545-467996c10f48"
      },
      "source": [
        "np.split(c,[3,8])"
      ],
      "execution_count": 153,
      "outputs": [
        {
          "output_type": "execute_result",
          "data": {
            "text/plain": [
              "[array([1, 2, 3]), array([4, 5, 6, 7, 8]), array([ 9, 10, 11, 12, 13, 14])]"
            ]
          },
          "metadata": {
            "tags": []
          },
          "execution_count": 153
        }
      ]
    },
    {
      "cell_type": "code",
      "metadata": {
        "colab": {
          "base_uri": "https://localhost:8080/"
        },
        "id": "snHP-VVayOkC",
        "outputId": "5d68f92d-7432-432e-f4c0-aabe82b7bf24"
      },
      "source": [
        "rot=np.array([1,5,7,8])\n",
        "np.repeat(rot,3)"
      ],
      "execution_count": 154,
      "outputs": [
        {
          "output_type": "execute_result",
          "data": {
            "text/plain": [
              "array([1, 1, 1, 5, 5, 5, 7, 7, 7, 8, 8, 8])"
            ]
          },
          "metadata": {
            "tags": []
          },
          "execution_count": 154
        }
      ]
    },
    {
      "cell_type": "code",
      "metadata": {
        "colab": {
          "base_uri": "https://localhost:8080/"
        },
        "id": "lWO7YxK-zJEm",
        "outputId": "2e4b53f7-9478-40b8-830c-a48943f42edd"
      },
      "source": [
        "np.tile(rot,3)"
      ],
      "execution_count": 155,
      "outputs": [
        {
          "output_type": "execute_result",
          "data": {
            "text/plain": [
              "array([1, 5, 7, 8, 1, 5, 7, 8, 1, 5, 7, 8])"
            ]
          },
          "metadata": {
            "tags": []
          },
          "execution_count": 155
        }
      ]
    },
    {
      "cell_type": "code",
      "metadata": {
        "colab": {
          "base_uri": "https://localhost:8080/"
        },
        "id": "UpSKB6ZHzOhe",
        "outputId": "243c8cfb-a77b-4024-c428-245364af8f3c"
      },
      "source": [
        "pd.Series([1,2,3,4],index=['a','b','c','d'])"
      ],
      "execution_count": 157,
      "outputs": [
        {
          "output_type": "execute_result",
          "data": {
            "text/plain": [
              "a    1\n",
              "b    2\n",
              "c    3\n",
              "d    4\n",
              "dtype: int64"
            ]
          },
          "metadata": {
            "tags": []
          },
          "execution_count": 157
        }
      ]
    },
    {
      "cell_type": "code",
      "metadata": {
        "colab": {
          "base_uri": "https://localhost:8080/"
        },
        "id": "mejEOJxN1oXB",
        "outputId": "d4829e01-a528-4617-d667-ddd7b798dc91"
      },
      "source": [
        "pd.Series([1,2,3,4],index=['a','b','c','d']).values"
      ],
      "execution_count": 158,
      "outputs": [
        {
          "output_type": "execute_result",
          "data": {
            "text/plain": [
              "array([1, 2, 3, 4])"
            ]
          },
          "metadata": {
            "tags": []
          },
          "execution_count": 158
        }
      ]
    },
    {
      "cell_type": "code",
      "metadata": {
        "colab": {
          "base_uri": "https://localhost:8080/"
        },
        "id": "u8kqDMdl2xgL",
        "outputId": "d80bfe1f-66ac-42ea-b025-086fe541f73b"
      },
      "source": [
        "pd.Series([1,2,3,4],index=['a','b','c','d']).index"
      ],
      "execution_count": 159,
      "outputs": [
        {
          "output_type": "execute_result",
          "data": {
            "text/plain": [
              "Index(['a', 'b', 'c', 'd'], dtype='object')"
            ]
          },
          "metadata": {
            "tags": []
          },
          "execution_count": 159
        }
      ]
    },
    {
      "cell_type": "code",
      "metadata": {
        "colab": {
          "base_uri": "https://localhost:8080/"
        },
        "id": "cIeKQQkE2yXM",
        "outputId": "de536e09-6ca2-433b-9304-018b30488bb3"
      },
      "source": [
        "s1=pd.Series([1,2,3,4],index=['a','b','c','d'])\n",
        "s1[1]"
      ],
      "execution_count": 160,
      "outputs": [
        {
          "output_type": "execute_result",
          "data": {
            "text/plain": [
              "2"
            ]
          },
          "metadata": {
            "tags": []
          },
          "execution_count": 160
        }
      ]
    },
    {
      "cell_type": "code",
      "metadata": {
        "id": "oYRlRM0Q28X6"
      },
      "source": [
        ""
      ],
      "execution_count": null,
      "outputs": []
    }
  ]
}